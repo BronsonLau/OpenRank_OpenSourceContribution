{
 "cells": [
  {
   "cell_type": "code",
   "execution_count": 2,
   "metadata": {},
   "outputs": [],
   "source": [
    "import pandas as pd\n",
    "\n",
    "# 读取CSV文件\n",
    "df = pd.read_csv('log_2020_01.csv', nrows=1500)\n",
    "\n",
    "# 取前五百行\n",
    "df = df.head(1500)\n",
    "\n",
    "# 删去不需要的列（假设你知道列名）\n",
    "columns_to_keep = ['id', 'type', 'actor_id', 'repo_id', 'repo_name', 'created_at', 'pull_merged_at', 'pull_merged_by_id']  # 替换为你需要保留的列名\n",
    "df = df[columns_to_keep]\n",
    "\n",
    "# 保存为新的CSV文件\n",
    "df.to_csv('Washed1.csv', index=False)\n"
   ]
  },
  {
   "cell_type": "code",
   "execution_count": 3,
   "metadata": {},
   "outputs": [],
   "source": [
    "import pandas as pd\n",
    "\n",
    "# 读取CSV文件\n",
    "df = pd.read_csv('log_2020_01.csv', nrows=1500)\n",
    "\n",
    "# 取前五百行\n",
    "df = df.head(1500)\n",
    "\n",
    "# 删去不需要的列（假设你知道列名）\n",
    "# columns_to_keep = ['id', 'type', 'actor_id', 'repo_id', 'repo_name', 'created_at', 'pull_merged_at', 'pull_merged_by_id']  # 替换为你需要保留的列名\n",
    "# df = df[columns_to_keep]\n",
    "\n",
    "# 保存为新的CSV文件\n",
    "df.to_csv('Washed1.csv', index=False)\n"
   ]
  },
  {
   "cell_type": "code",
   "execution_count": null,
   "metadata": {},
   "outputs": [
    {
     "name": "stderr",
     "output_type": "stream",
     "text": [
      "C:\\Users\\23162\\AppData\\Local\\Temp\\ipykernel_18132\\317231589.py:4: DtypeWarning: Columns (81,82,94,96,97) have mixed types. Specify dtype option on import or set low_memory=False.\n",
      "  df = pd.read_csv('log_2020_01.csv', nrows=10000)\n"
     ]
    }
   ],
   "source": [
    "# 第二次洗数据\n",
    "\n",
    "import pandas as pd\n",
    "\n",
    "# 读取CSV文件\n",
    "df = pd.read_csv('log_2020_01.csv', nrows=10000)\n",
    "\n",
    "# 取前五百行\n",
    "df = df.head(10000)\n",
    "\n",
    "# 删去不需要的列（假设你知道列名）\n",
    "columns_to_keep = ['id', 'actor_id','actor_login',  'issue_author_type','repo_id', 'repo_name', 'created_at', 'create_description', 'pull_merged_by_type']  # 替换为你需要保留的列名\n",
    "df = df[columns_to_keep]\n",
    "\n",
    "# 保存为新的CSV文件\n",
    "df.to_csv('Washed2.csv', index=False)"
   ]
  },
  {
   "cell_type": "code",
   "execution_count": 5,
   "metadata": {},
   "outputs": [
    {
     "name": "stdout",
     "output_type": "stream",
     "text": [
      "Repo ID counts saved to repo_id_counts.csv\n",
      "Created date counts saved to created_date_counts.csv\n"
     ]
    }
   ],
   "source": [
    "# 统计\n",
    "\n",
    "import pandas as pd\n",
    "\n",
    "# 读取CSV文件\n",
    "file_path = 'Washed2.csv'\n",
    "df = pd.read_csv(file_path)\n",
    "\n",
    "# 统计repo_id的出现次数并生成CSV表格\n",
    "repo_id_counts = df['repo_id'].value_counts().reset_index()\n",
    "repo_id_counts.columns = ['repo_id', 'count']\n",
    "result = pd.merge(repo_id_counts, df[['repo_id', 'repo_name']].drop_duplicates(), on='repo_id')\n",
    "result.to_csv('repo_id_counts.csv', index=False)\n",
    "print(\"Repo ID counts saved to repo_id_counts.csv\")\n",
    "\n",
    "# 提取created_at中的日期部分并统计频率，生成CSV表格\n",
    "df['created_date'] = pd.to_datetime(df['created_at']).dt.date\n",
    "date_counts = df['created_date'].value_counts().reset_index()\n",
    "date_counts.columns = ['created_date', 'count']\n",
    "date_counts.to_csv('created_date_counts.csv', index=False)\n",
    "print(\"Created date counts saved to created_date_counts.csv\")\n"
   ]
  }
 ],
 "metadata": {
  "kernelspec": {
   "display_name": "Python 3",
   "language": "python",
   "name": "python3"
  },
  "language_info": {
   "codemirror_mode": {
    "name": "ipython",
    "version": 3
   },
   "file_extension": ".py",
   "mimetype": "text/x-python",
   "name": "python",
   "nbconvert_exporter": "python",
   "pygments_lexer": "ipython3",
   "version": "3.11.4"
  }
 },
 "nbformat": 4,
 "nbformat_minor": 2
}
