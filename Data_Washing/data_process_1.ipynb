{
 "cells": [
  {
   "cell_type": "code",
   "execution_count": null,
   "metadata": {},
   "outputs": [],
   "source": [
    "# 洗数据以提供给机器学习\n",
    "\n",
    "import pandas as pd\n",
    "\n",
    "# 读取CSV文件\n",
    "df = pd.read_csv('log_2020_01.csv', nrows=1000000)\n",
    "\n",
    "# 取前五百行\n",
    "df = df.head(1000000)\n",
    "\n",
    "# 删去不需要的列（假设你知道列名）\n",
    "columns_to_keep = ['id', 'actor_id','actor_login',  'issue_author_type','repo_id', 'repo_name', 'created_at', 'create_description', 'pull_merged_by_type']  # 替换为你需要保留的列名\n",
    "df = df[columns_to_keep]\n",
    "\n",
    "# 保存为新的CSV文件\n",
    "df.to_csv('Washed2.csv', index=False)"
   ]
  },
  {
   "cell_type": "code",
   "execution_count": null,
   "metadata": {},
   "outputs": [],
   "source": [
    "import pandas as pd\n",
    "from statsmodels.tsa.arima.model import ARIMA\n",
    "import matplotlib.pyplot as plt\n",
    "# 读取CSV文件\n",
    "file_path = 'Washed2.csv'\n",
    "df = pd.read_csv(file_path, encoding='ISO-8859-1')\n",
    "# 确保数据没有缺失值\n",
    "df = df.dropna(subset=['created_at', 'repo_id', 'repo_name'])\n",
    "# 提取created_at中的日期部分并统计频率，生成CSV表格\n",
    "df['created_date'] = pd.to_datetime(df['created_at']).dt.date\n",
    "date_counts = df['created_date'].value_counts().reset_index()\n",
    "date_counts.columns = ['created_date', 'count']\n",
    "date_counts = date_counts.sort_values('created_date')\n",
    "# 保存统计频率的CSV表格\n",
    "date_counts.to_csv('created_date_counts.csv', index=False)\n",
    "print(\"created_date_counts.csv\")\n"
   ]
  },
  {
   "cell_type": "code",
   "execution_count": 3,
   "metadata": {},
   "outputs": [
    {
     "name": "stdout",
     "output_type": "stream",
     "text": [
      "Predicted February daily counts saved to 'predicted_february_count.csv'\n"
     ]
    }
   ],
   "source": [
    "import pandas as pd\n",
    "import numpy as np\n",
    "from sklearn.linear_model import LinearRegression\n",
    "from sklearn.model_selection import train_test_split\n",
    "from sklearn.metrics import mean_squared_error\n",
    "import datetime\n",
    "\n",
    "# 加载数据\n",
    "df = pd.read_csv('created_date_counts.csv')\n",
    "\n",
    "# 确保日期列为datetime类型\n",
    "df['created_date'] = pd.to_datetime(df['created_date'])\n",
    "df.set_index('created_date', inplace=True)\n",
    "\n",
    "# 提取特征：以日期为基础进行预测\n",
    "df['month'] = df.index.month\n",
    "df['year'] = df.index.year\n",
    "df['day'] = df.index.dayofyear\n",
    "\n",
    "# 选择特征和目标\n",
    "X = df[['year', 'month', 'day']]\n",
    "y = df['count']\n",
    "\n",
    "# 将数据分为训练集和测试集\n",
    "X_train, X_test, y_train, y_test = train_test_split(X, y, test_size=0.2, shuffle=False)\n",
    "\n",
    "# 使用线性回归模型进行训练\n",
    "model = LinearRegression()\n",
    "model.fit(X_train, y_train)\n",
    "\n",
    "# 进行预测\n",
    "y_pred = model.predict(X_test)\n",
    "\n",
    "\n",
    "# 预测2024年2月的每日count\n",
    "february_dates = pd.date_range(start='2020-02-01', end='2020-02-29')\n",
    "\n",
    "# 创建特征输入\n",
    "february_features = pd.DataFrame({\n",
    "    'year': february_dates.year,\n",
    "    'month': february_dates.month,\n",
    "    'day': february_dates.dayofyear\n",
    "})\n",
    "\n",
    "# 预测2月的每日count\n",
    "february_predictions = model.predict(february_features)\n",
    "\n",
    "# 创建输出DataFrame\n",
    "february_output = pd.DataFrame({\n",
    "    'created_date': february_dates,\n",
    "    'predicted_count': february_predictions\n",
    "})\n",
    "\n",
    "# 保存为CSV文件\n",
    "february_output.to_csv('predicted_february_count.csv', index=False)\n",
    "\n",
    "print(\"Predicted February daily counts saved to 'predicted_february_count.csv'\")\n"
   ]
  },
  {
   "cell_type": "code",
   "execution_count": null,
   "metadata": {},
   "outputs": [
    {
     "name": "stderr",
     "output_type": "stream",
     "text": [
      "C:\\Users\\23162\\AppData\\Local\\Temp\\ipykernel_21480\\299975814.py:6: DtypeWarning: Columns (8,12,13,19,23,35,42,45,48,51,55,61,62,70,73,81,82,87,89,91,92,94,96,97,106,107,108,111,116) have mixed types. Specify dtype option on import or set low_memory=False.\n",
      "  df = pd.read_csv('log_2020_01.csv' ,nrows = 1000000)\n"
     ]
    }
   ],
   "source": [
    "# 重新进行大规模统计（100 0000行）\n",
    "\n",
    "import pandas as pd\n",
    "\n",
    "# 读取CSV文件\n",
    "df = pd.read_csv('log_2020_01.csv' ,nrows = 1000000)\n",
    "\n",
    "\n",
    "df = df.head(1000000)\n",
    "\n",
    "# 删去不需要的列（假设你知道列名）\n",
    "\n",
    "\n",
    "# 保存为新的CSV文件\n",
    "df.to_csv('Washed4.csv', index=False)"
   ]
  },
  {
   "cell_type": "code",
   "execution_count": 2,
   "metadata": {},
   "outputs": [
    {
     "name": "stderr",
     "output_type": "stream",
     "text": [
      "C:\\Users\\23162\\AppData\\Local\\Temp\\ipykernel_34468\\2219849321.py:4: DtypeWarning: Columns (8,12,13,19,23,35,42,45,48,51,55,61,62,70,73,81,82,87,89,91,92,94,96,97,106,107,108,111,116) have mixed types. Specify dtype option on import or set low_memory=False.\n",
      "  df = pd.read_csv('Washed4.csv')\n",
      "C:\\Users\\23162\\AppData\\Local\\Temp\\ipykernel_34468\\2219849321.py:20: FutureWarning: The default of observed=False is deprecated and will be changed to True in a future version of pandas. Pass observed=False to retain current behavior or observed=True to adopt the future default and silence this warning.\n",
      "  range_count = repo_count.groupby('count_range').size().reset_index(name='repo_count')\n"
     ]
    }
   ],
   "source": [
    "import pandas as pd\n",
    "\n",
    "# 读取CSV文件\n",
    "df = pd.read_csv('Washed4.csv')\n",
    "\n",
    "# 剔除create_description为空的行\n",
    "df_cleaned = df.dropna(subset=['create_description'])\n",
    "\n",
    "# 按repo_id分组，统计每个repo_id的行数\n",
    "repo_count = df_cleaned.groupby('repo_id').size().reset_index(name='count')\n",
    "\n",
    "# 将结果保存为新的CSV文件\n",
    "repo_count.to_csv('output.csv', index=False)\n",
    "\n",
    "print(repo_count)\n"
   ]
  },
  {
   "cell_type": "code",
   "execution_count": 1,
   "metadata": {},
   "outputs": [
    {
     "name": "stderr",
     "output_type": "stream",
     "text": [
      "C:\\Users\\23162\\AppData\\Local\\Temp\\ipykernel_20244\\314643710.py:4: DtypeWarning: Columns (8,12,13,19,23,35,42,45,48,51,55,61,62,70,73,81,82,87,89,91,92,94,96,97,106,107,108,111,116) have mixed types. Specify dtype option on import or set low_memory=False.\n",
      "  df = pd.read_csv('Washed4.csv')\n",
      "C:\\Users\\23162\\AppData\\Local\\Temp\\ipykernel_20244\\314643710.py:20: FutureWarning: The default of observed=False is deprecated and will be changed to True in a future version of pandas. Pass observed=False to retain current behavior or observed=True to adopt the future default and silence this warning.\n",
      "  range_count = repo_count.groupby('count_range').size().reset_index(name='repo_count')\n"
     ]
    }
   ],
   "source": [
    "import pandas as pd\n",
    "\n",
    "# 读取CSV文件\n",
    "df = pd.read_csv('Washed4.csv')\n",
    "\n",
    "# 剔除create_description为空的行\n",
    "df_cleaned = df.dropna(subset=['create_description'])\n",
    "\n",
    "# 按repo_id分组，统计每个repo_id的行数\n",
    "repo_count = df_cleaned.groupby('repo_id').size().reset_index(name='count')\n",
    "\n",
    "# 定义count的区间\n",
    "bins = [0, 1, 5, 10, 20, 50, 100, 1000]  # 自定义区间\n",
    "labels = ['1 or less', '2-5', '6-10', '11-20', '21-50', '51-100', '>100']  # 给每个区间一个标签\n",
    "\n",
    "# 将count分类\n",
    "repo_count['count_range'] = pd.cut(repo_count['count'], bins=bins, labels=labels, right=False)\n",
    "\n",
    "# 对count_range进行分组统计每个区间的repo_id数量\n",
    "range_count = repo_count.groupby('count_range').size().reset_index(name='repo_count')\n",
    "\n",
    "# 将结果保存为新的CSV文件\n",
    "range_count.to_csv('output_range_count.csv', index=False)"
   ]
  },
  {
   "cell_type": "code",
   "execution_count": 5,
   "metadata": {},
   "outputs": [
    {
     "name": "stdout",
     "output_type": "stream",
     "text": [
      "Issue comments range counts saved to issue_comments_range_counts.csv\n"
     ]
    }
   ],
   "source": [
    "import pandas as pd\n",
    "\n",
    "# 读取CSV文件\n",
    "file_path = 'Washed2.csv'  # 请根据实际路径调整\n",
    "df = pd.read_csv(file_path)\n",
    "\n",
    "# 步骤1：将 issue_comments 为0的值替换为 NaN\n",
    "df['issue_comments'] = df['issue_comments'].replace(0, pd.NA)\n",
    "\n",
    "# 步骤2：剔除 issue_comments 为 NaN 的行\n",
    "df_filtered = df.dropna(subset=['issue_comments'])\n",
    "\n",
    "# 步骤3：根据 repo_id 分组，计算每组中 issue_comments 的最大值\n",
    "max_issue_comments = df_filtered.groupby('repo_id')['issue_comments'].max().reset_index()\n",
    "\n",
    "# 步骤4：定义分类区间\n",
    "bins = [0, 10, 50, 100, 500, 1000, float('inf')]  # 定义区间范围\n",
    "labels = ['0-10', '11-50', '51-100', '101-500', '501-1000', '1000+']  # 区间标签\n",
    "\n",
    "# 步骤5：根据 issue_comments 对仓库进行分类\n",
    "max_issue_comments['issue_comments_range'] = pd.cut(max_issue_comments['issue_comments'], bins=bins, labels=labels, right=False)\n",
    "\n",
    "# 步骤6：统计每个区间内的仓库数量\n",
    "range_counts = max_issue_comments['issue_comments_range'].value_counts().reset_index()\n",
    "range_counts.columns = ['issue_comments_range', 'repo_count']\n",
    "\n",
    "# 步骤7：保存统计结果为新的CSV文件\n",
    "range_counts.to_csv('create_description_range_counts.csv', index=False)\n",
    "\n",
    "print(\"Issue comments range counts saved to create_description_range_counts.csv\")\n",
    "\n"
   ]
  },
  {
   "cell_type": "code",
   "execution_count": null,
   "metadata": {},
   "outputs": [],
   "source": [
    "\n",
    "\n",
    "import pandas as pd\n",
    "\n",
    "# 读取CSV文件\n",
    "df = pd.read_csv('log_2020_01.csv' ,nrows = 1000000)\n",
    "\n",
    "\n",
    "df = df.head(1000000)\n",
    "\n",
    "# 删去不需要的列（假设你知道列名）\n",
    "columns_to_keep = ['id','type', 'actor_id','actor_login',  'issue_author_type','repo_id', 'repo_name', 'created_at', 'create_description', 'pull_merged_by_type', 'repo_language']  # 替换为你需要保留的列名\n",
    "df = df[columns_to_keep]\n",
    "\n",
    "# 保存为新的CSV文件\n",
    "df.to_csv('Washed1.csv', index=False)"
   ]
  },
  {
   "cell_type": "code",
   "execution_count": null,
   "metadata": {},
   "outputs": [],
   "source": [
    "import pandas as pd\n",
    "\n",
    "# 读取CSV文件\n",
    "file_path = 'Washed1.csv'\n",
    "df = pd.read_csv(file_path)\n",
    "\n",
    "# 统计repo_id的出现次数并生成CSV表格\n",
    "repo_id_counts = df['repo_id'].value_counts().reset_index()\n",
    "repo_id_counts.columns = ['repo_id', 'count']\n",
    "result = pd.merge(repo_id_counts, df[['repo_id', 'repo_name']].drop_duplicates(), on='repo_id')\n",
    "result.to_csv('repo_id_counts.csv', index=False)\n",
    "print(\"Repo ID counts saved to repo_id_counts.csv\")\n",
    "\n",
    "# 提取created_at中的日期部分并统计频率，生成CSV表格\n",
    "df['created_date'] = pd.to_datetime(df['created_at']).dt.date\n",
    "date_counts = df['created_date'].value_counts().reset_index()\n",
    "date_counts.columns = ['created_date', 'count']\n",
    "date_counts.to_csv('created_date_counts.csv', index=False)\n",
    "print(\"Created date counts saved to created_date_counts.csv\")\n"
   ]
  },
  {
   "cell_type": "code",
   "execution_count": null,
   "metadata": {},
   "outputs": [],
   "source": [
    "import pandas as pd\n",
    "\n",
    "# 读取CSV文件\n",
    "file_path = 'Washed1.csv' \n",
    "df = pd.read_csv(file_path)\n",
    "\n",
    "# 统计repo_language的出现次数\n",
    "language_counts = df['repo_language'].value_counts().reset_index()\n",
    "language_counts.columns = ['repo_language', 'count']\n",
    "\n",
    "# 保存为新的CSV文件\n",
    "language_counts.to_csv('repo_language_counts.csv', index=False)\n",
    "\n",
    "print(\"Repo language counts saved to repo_language_counts.csv\")"
   ]
  },
  {
   "cell_type": "code",
   "execution_count": null,
   "metadata": {},
   "outputs": [],
   "source": [
    "# 重新进行大规模统计（100 0000行）\n",
    "\n",
    "import pandas as pd\n",
    "\n",
    "# 读取CSV文件\n",
    "df = pd.read_csv('log_2020_01.csv' ,nrows = 1000000)\n",
    "\n",
    "\n",
    "df = df.head(1000000)\n",
    "\n",
    "# 删去不需要的列（假设你知道列名）\n",
    "columns_to_keep = ['id','type', 'actor_id','actor_login',  'issue_author_type','repo_id', 'repo_name', 'created_at', 'create_description', 'pull_merged_by_type', 'repo_language']  # 替换为你需要保留的列名\n",
    "df = df[columns_to_keep]\n",
    "\n",
    "# 保存为新的CSV文件\n",
    "df.to_csv('Washed1.csv', index=False)"
   ]
  },
  {
   "cell_type": "code",
   "execution_count": null,
   "metadata": {},
   "outputs": [],
   "source": [
    "import pandas as pd\n",
    "\n",
    "# 读取CSV文件\n",
    "file_path = 'Washed1.csv'\n",
    "df = pd.read_csv(file_path)\n",
    "\n",
    "# 统计repo_id的出现次数并生成CSV表格\n",
    "repo_id_counts = df['repo_id'].value_counts().reset_index()\n",
    "repo_id_counts.columns = ['repo_id', 'count']\n",
    "result = pd.merge(repo_id_counts, df[['repo_id', 'repo_name']].drop_duplicates(), on='repo_id')\n",
    "result.to_csv('repo_id_counts.csv', index=False)\n",
    "print(\"Repo ID counts saved to repo_id_counts.csv\")\n",
    "\n",
    "# 提取created_at中的日期部分并统计频率，生成CSV表格\n",
    "df['created_date'] = pd.to_datetime(df['created_at']).dt.date\n",
    "date_counts = df['created_date'].value_counts().reset_index()\n",
    "date_counts.columns = ['created_date', 'count']\n",
    "date_counts.to_csv('created_date_counts.csv', index=False)\n",
    "print(\"Created date counts saved to created_date_counts.csv\")\n"
   ]
  },
  {
   "cell_type": "code",
   "execution_count": null,
   "metadata": {},
   "outputs": [],
   "source": [
    "import pandas as pd\n",
    "\n",
    "# 读取CSV文件\n",
    "file_path = 'Washed1.csv' \n",
    "df = pd.read_csv(file_path)\n",
    "\n",
    "# 统计repo_language的出现次数\n",
    "language_counts = df['repo_language'].value_counts().reset_index()\n",
    "language_counts.columns = ['repo_language', 'count']\n",
    "\n",
    "# 保存为新的CSV文件\n",
    "language_counts.to_csv('repo_language_counts.csv', index=False)\n",
    "\n",
    "print(\"Repo language counts saved to repo_language_counts.csv\")"
   ]
  }
 ],
 "metadata": {
  "kernelspec": {
   "display_name": "Python 3",
   "language": "python",
   "name": "python3"
  },
  "language_info": {
   "codemirror_mode": {
    "name": "ipython",
    "version": 3
   },
   "file_extension": ".py",
   "mimetype": "text/x-python",
   "name": "python",
   "nbconvert_exporter": "python",
   "pygments_lexer": "ipython3",
   "version": "3.11.4"
  }
 },
 "nbformat": 4,
 "nbformat_minor": 2
}
