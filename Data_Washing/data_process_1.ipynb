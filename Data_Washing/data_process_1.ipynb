{
 "cells": [
  {
   "cell_type": "code",
   "execution_count": null,
   "metadata": {},
   "outputs": [],
   "source": [
    "# 洗数据以提供给机器学习\n",
    "\n",
    "import pandas as pd\n",
    "\n",
    "# 读取CSV文件\n",
    "df = pd.read_csv('log_2020_01.csv', nrows=1000000)\n",
    "\n",
    "# 取前五百行\n",
    "df = df.head(1000000)\n",
    "\n",
    "# 删去不需要的列（假设你知道列名）\n",
    "columns_to_keep = ['id', 'actor_id','actor_login',  'issue_author_type','repo_id', 'repo_name', 'created_at', 'create_description', 'pull_merged_by_type']  # 替换为你需要保留的列名\n",
    "df = df[columns_to_keep]\n",
    "\n",
    "# 保存为新的CSV文件\n",
    "df.to_csv('Washed2.csv', index=False)"
   ]
  },
  {
   "cell_type": "code",
   "execution_count": null,
   "metadata": {},
   "outputs": [],
   "source": [
    "import pandas as pd\n",
    "from statsmodels.tsa.arima.model import ARIMA\n",
    "import matplotlib.pyplot as plt\n",
    "\n",
    "# 读取CSV文件\n",
    "file_path = 'Washed2.csv'\n",
    "df = pd.read_csv(file_path, encoding='ISO-8859-1')\n",
    "\n",
    "# 确保数据没有缺失值\n",
    "df = df.dropna(subset=['created_at', 'repo_id', 'repo_name'])\n",
    "\n",
    "# 提取created_at中的日期部分并统计频率，生成CSV表格\n",
    "df['created_date'] = pd.to_datetime(df['created_at']).dt.date\n",
    "date_counts = df['created_date'].value_counts().reset_index()\n",
    "date_counts.columns = ['created_date', 'count']\n",
    "date_counts = date_counts.sort_values('created_date')\n",
    "\n",
    "# 保存统计频率的CSV表格\n",
    "date_counts.to_csv('created_date_counts.csv', index=False)\n",
    "print(\"created_date_counts.csv\")\n",
    "\n",
    "# 设置时间序列数据\n",
    "date_counts.set_index('created_date', inplace=True)\n",
    "\n",
    "# 拆分训练集和测试集\n",
    "train_data = date_counts.iloc[:-30]\n",
    "test_data = date_counts.iloc[-30:]\n",
    "\n",
    "# 确保时间序列的稳定性\n",
    "train_data_diff = train_data.diff().dropna()\n",
    "\n",
    "# 定义并训练ARIMA模型\n",
    "# 调整ARIMA模型的阶数\n",
    "model = ARIMA(train_data_diff, order=(2, 1, 0))  # 降低模型阶数\n",
    "model_fit = model.fit()\n",
    "\n",
    "# 预测\n",
    "forecast_diff = model_fit.forecast(steps=30)\n",
    "forecast = train_data['count'].iloc[-1] + forecast_diff.cumsum()\n",
    "\n",
    "# 创建预测结果的DataFrame\n",
    "forecast_index = pd.date_range(start=test_data.index[-1] + pd.Timedelta(days=1), periods=30, freq='D')\n",
    "forecast_df = pd.DataFrame(forecast.values, index=forecast_index, columns=['forecast'])\n",
    "forecast_df = forecast_df.reset_index()\n",
    "forecast_df.columns = ['created_date', 'forecast']\n",
    "\n",
    "# 保存预测结果到CSV文件\n",
    "forecast_df.to_csv('forecasted_created_date_counts.csv', index=False)\n",
    "print(\"forecasted_created_date_counts.csv\")\n",
    "\n",
    "# 绘制结果\n",
    "plt.figure(figsize=(12, 6))\n",
    "plt.plot(train_data.index, train_data['count'], label='Training Data')\n",
    "plt.plot(test_data.index, test_data['count'], label='Test Data')\n",
    "plt.plot(forecast_df['created_date'], forecast_df['forecast'], label='Forecast')\n",
    "plt.xlabel('Date')\n",
    "plt.ylabel('Commit Count')\n",
    "plt.title('Commit Count Forecast')\n",
    "plt.legend()\n",
    "plt.show()\n"
   ]
  },
  {
   "cell_type": "code",
   "execution_count": null,
   "metadata": {},
   "outputs": [
    {
     "name": "stderr",
     "output_type": "stream",
     "text": [
      "C:\\Users\\23162\\AppData\\Local\\Temp\\ipykernel_21480\\299975814.py:6: DtypeWarning: Columns (8,12,13,19,23,35,42,45,48,51,55,61,62,70,73,81,82,87,89,91,92,94,96,97,106,107,108,111,116) have mixed types. Specify dtype option on import or set low_memory=False.\n",
      "  df = pd.read_csv('log_2020_01.csv' ,nrows = 1000000)\n"
     ]
    }
   ],
   "source": [
    "# 重新进行大规模统计（100 0000行）\n",
    "\n",
    "import pandas as pd\n",
    "\n",
    "# 读取CSV文件\n",
    "df = pd.read_csv('log_2020_01.csv' ,nrows = 1000000)\n",
    "\n",
    "\n",
    "df = df.head(1000000)\n",
    "\n",
    "# 删去不需要的列（假设你知道列名）\n",
    "\n",
    "\n",
    "# 保存为新的CSV文件\n",
    "df.to_csv('Washed4.csv', index=False)"
   ]
  },
  {
   "cell_type": "code",
   "execution_count": 2,
   "metadata": {},
   "outputs": [
    {
     "name": "stderr",
     "output_type": "stream",
     "text": [
      "C:\\Users\\23162\\AppData\\Local\\Temp\\ipykernel_34468\\2219849321.py:4: DtypeWarning: Columns (8,12,13,19,23,35,42,45,48,51,55,61,62,70,73,81,82,87,89,91,92,94,96,97,106,107,108,111,116) have mixed types. Specify dtype option on import or set low_memory=False.\n",
      "  df = pd.read_csv('Washed4.csv')\n",
      "C:\\Users\\23162\\AppData\\Local\\Temp\\ipykernel_34468\\2219849321.py:20: FutureWarning: The default of observed=False is deprecated and will be changed to True in a future version of pandas. Pass observed=False to retain current behavior or observed=True to adopt the future default and silence this warning.\n",
      "  range_count = repo_count.groupby('count_range').size().reset_index(name='repo_count')\n"
     ]
    }
   ],
   "source": [
    "import pandas as pd\n",
    "\n",
    "# 读取CSV文件\n",
    "df = pd.read_csv('Washed4.csv')\n",
    "\n",
    "# 剔除create_description为空的行\n",
    "df_cleaned = df.dropna(subset=['create_description'])\n",
    "\n",
    "# 按repo_id分组，统计每个repo_id的行数\n",
    "repo_count = df_cleaned.groupby('repo_id').size().reset_index(name='count')\n",
    "\n",
    "# 将结果保存为新的CSV文件\n",
    "repo_count.to_csv('output.csv', index=False)\n",
    "\n",
    "print(repo_count)\n"
   ]
  },
  {
   "cell_type": "code",
   "execution_count": 1,
   "metadata": {},
   "outputs": [
    {
     "name": "stderr",
     "output_type": "stream",
     "text": [
      "C:\\Users\\23162\\AppData\\Local\\Temp\\ipykernel_20244\\314643710.py:4: DtypeWarning: Columns (8,12,13,19,23,35,42,45,48,51,55,61,62,70,73,81,82,87,89,91,92,94,96,97,106,107,108,111,116) have mixed types. Specify dtype option on import or set low_memory=False.\n",
      "  df = pd.read_csv('Washed4.csv')\n",
      "C:\\Users\\23162\\AppData\\Local\\Temp\\ipykernel_20244\\314643710.py:20: FutureWarning: The default of observed=False is deprecated and will be changed to True in a future version of pandas. Pass observed=False to retain current behavior or observed=True to adopt the future default and silence this warning.\n",
      "  range_count = repo_count.groupby('count_range').size().reset_index(name='repo_count')\n"
     ]
    }
   ],
   "source": [
    "import pandas as pd\n",
    "\n",
    "# 读取CSV文件\n",
    "df = pd.read_csv('Washed4.csv')\n",
    "\n",
    "# 剔除create_description为空的行\n",
    "df_cleaned = df.dropna(subset=['create_description'])\n",
    "\n",
    "# 按repo_id分组，统计每个repo_id的行数\n",
    "repo_count = df_cleaned.groupby('repo_id').size().reset_index(name='count')\n",
    "\n",
    "# 定义count的区间\n",
    "bins = [0, 1, 5, 10, 20, 50, 100, 1000]  # 自定义区间\n",
    "labels = ['1 or less', '2-5', '6-10', '11-20', '21-50', '51-100', '>100']  # 给每个区间一个标签\n",
    "\n",
    "# 将count分类\n",
    "repo_count['count_range'] = pd.cut(repo_count['count'], bins=bins, labels=labels, right=False)\n",
    "\n",
    "# 对count_range进行分组统计每个区间的repo_id数量\n",
    "range_count = repo_count.groupby('count_range').size().reset_index(name='repo_count')\n",
    "\n",
    "# 将结果保存为新的CSV文件\n",
    "range_count.to_csv('output_range_count.csv', index=False)"
   ]
  },
  {
   "cell_type": "code",
   "execution_count": 5,
   "metadata": {},
   "outputs": [
    {
     "name": "stdout",
     "output_type": "stream",
     "text": [
      "Issue comments range counts saved to issue_comments_range_counts.csv\n"
     ]
    }
   ],
   "source": [
    "import pandas as pd\n",
    "\n",
    "# 读取CSV文件\n",
    "file_path = '/mnt/data/Washed2.csv'  # 请根据实际路径调整\n",
    "df = pd.read_csv(file_path)\n",
    "\n",
    "# 步骤1：将 issue_comments 为0的值替换为 NaN\n",
    "df['issue_comments'] = df['issue_comments'].replace(0, pd.NA)\n",
    "\n",
    "# 步骤2：剔除 issue_comments 为 NaN 的行\n",
    "df_filtered = df.dropna(subset=['issue_comments'])\n",
    "\n",
    "# 步骤3：根据 repo_id 分组，计算每组中 issue_comments 的最大值\n",
    "max_issue_comments = df_filtered.groupby('repo_id')['issue_comments'].max().reset_index()\n",
    "\n",
    "# 步骤4：定义分类区间\n",
    "bins = [0, 10, 50, 100, 500, 1000, float('inf')]  # 定义区间范围\n",
    "labels = ['0-10', '11-50', '51-100', '101-500', '501-1000', '1000+']  # 区间标签\n",
    "\n",
    "# 步骤5：根据 issue_comments 对仓库进行分类\n",
    "max_issue_comments['issue_comments_range'] = pd.cut(max_issue_comments['issue_comments'], bins=bins, labels=labels, right=False)\n",
    "\n",
    "# 步骤6：统计每个区间内的仓库数量\n",
    "range_counts = max_issue_comments['issue_comments_range'].value_counts().reset_index()\n",
    "range_counts.columns = ['issue_comments_range', 'repo_count']\n",
    "\n",
    "# 步骤7：保存统计结果为新的CSV文件\n",
    "range_counts.to_csv('create_description_range_counts.csv', index=False)\n",
    "\n",
    "print(\"Issue comments range counts saved to create_description_range_counts.csv\")\n",
    "\n"
   ]
  },
  {
   "cell_type": "code",
   "execution_count": null,
   "metadata": {},
   "outputs": [],
   "source": [
    "\n",
    "\n",
    "import pandas as pd\n",
    "\n",
    "# 读取CSV文件\n",
    "df = pd.read_csv('log_2020_01.csv' ,nrows = 1000000)\n",
    "\n",
    "\n",
    "df = df.head(1000000)\n",
    "\n",
    "# 删去不需要的列（假设你知道列名）\n",
    "columns_to_keep = ['id','type', 'actor_id','actor_login',  'issue_author_type','repo_id', 'repo_name', 'created_at', 'create_description', 'pull_merged_by_type', 'repo_language']  # 替换为你需要保留的列名\n",
    "df = df[columns_to_keep]\n",
    "\n",
    "# 保存为新的CSV文件\n",
    "df.to_csv('Washed1.csv', index=False)"
   ]
  },
  {
   "cell_type": "code",
   "execution_count": null,
   "metadata": {},
   "outputs": [],
   "source": [
    "import pandas as pd\n",
    "\n",
    "# 读取CSV文件\n",
    "file_path = 'Washed1.csv'\n",
    "df = pd.read_csv(file_path)\n",
    "\n",
    "# 统计repo_id的出现次数并生成CSV表格\n",
    "repo_id_counts = df['repo_id'].value_counts().reset_index()\n",
    "repo_id_counts.columns = ['repo_id', 'count']\n",
    "result = pd.merge(repo_id_counts, df[['repo_id', 'repo_name']].drop_duplicates(), on='repo_id')\n",
    "result.to_csv('repo_id_counts.csv', index=False)\n",
    "print(\"Repo ID counts saved to repo_id_counts.csv\")\n",
    "\n",
    "# 提取created_at中的日期部分并统计频率，生成CSV表格\n",
    "df['created_date'] = pd.to_datetime(df['created_at']).dt.date\n",
    "date_counts = df['created_date'].value_counts().reset_index()\n",
    "date_counts.columns = ['created_date', 'count']\n",
    "date_counts.to_csv('created_date_counts.csv', index=False)\n",
    "print(\"Created date counts saved to created_date_counts.csv\")\n"
   ]
  },
  {
   "cell_type": "code",
   "execution_count": null,
   "metadata": {},
   "outputs": [],
   "source": [
    "import pandas as pd\n",
    "\n",
    "# 读取CSV文件\n",
    "file_path = 'Washed1.csv' \n",
    "df = pd.read_csv(file_path)\n",
    "\n",
    "# 统计repo_language的出现次数\n",
    "language_counts = df['repo_language'].value_counts().reset_index()\n",
    "language_counts.columns = ['repo_language', 'count']\n",
    "\n",
    "# 保存为新的CSV文件\n",
    "language_counts.to_csv('repo_language_counts.csv', index=False)\n",
    "\n",
    "print(\"Repo language counts saved to repo_language_counts.csv\")"
   ]
  },
  {
   "cell_type": "code",
   "execution_count": null,
   "metadata": {},
   "outputs": [],
   "source": [
    "# 重新进行大规模统计（100 0000行）\n",
    "\n",
    "import pandas as pd\n",
    "\n",
    "# 读取CSV文件\n",
    "df = pd.read_csv('log_2020_01.csv' ,nrows = 1000000)\n",
    "\n",
    "\n",
    "df = df.head(1000000)\n",
    "\n",
    "# 删去不需要的列（假设你知道列名）\n",
    "columns_to_keep = ['id','type', 'actor_id','actor_login',  'issue_author_type','repo_id', 'repo_name', 'created_at', 'create_description', 'pull_merged_by_type', 'repo_language']  # 替换为你需要保留的列名\n",
    "df = df[columns_to_keep]\n",
    "\n",
    "# 保存为新的CSV文件\n",
    "df.to_csv('Washed1.csv', index=False)"
   ]
  },
  {
   "cell_type": "code",
   "execution_count": null,
   "metadata": {},
   "outputs": [],
   "source": [
    "import pandas as pd\n",
    "\n",
    "# 读取CSV文件\n",
    "file_path = 'Washed1.csv'\n",
    "df = pd.read_csv(file_path)\n",
    "\n",
    "# 统计repo_id的出现次数并生成CSV表格\n",
    "repo_id_counts = df['repo_id'].value_counts().reset_index()\n",
    "repo_id_counts.columns = ['repo_id', 'count']\n",
    "result = pd.merge(repo_id_counts, df[['repo_id', 'repo_name']].drop_duplicates(), on='repo_id')\n",
    "result.to_csv('repo_id_counts.csv', index=False)\n",
    "print(\"Repo ID counts saved to repo_id_counts.csv\")\n",
    "\n",
    "# 提取created_at中的日期部分并统计频率，生成CSV表格\n",
    "df['created_date'] = pd.to_datetime(df['created_at']).dt.date\n",
    "date_counts = df['created_date'].value_counts().reset_index()\n",
    "date_counts.columns = ['created_date', 'count']\n",
    "date_counts.to_csv('created_date_counts.csv', index=False)\n",
    "print(\"Created date counts saved to created_date_counts.csv\")\n"
   ]
  },
  {
   "cell_type": "code",
   "execution_count": null,
   "metadata": {},
   "outputs": [],
   "source": [
    "import pandas as pd\n",
    "\n",
    "# 读取CSV文件\n",
    "file_path = 'Washed1.csv' \n",
    "df = pd.read_csv(file_path)\n",
    "\n",
    "# 统计repo_language的出现次数\n",
    "language_counts = df['repo_language'].value_counts().reset_index()\n",
    "language_counts.columns = ['repo_language', 'count']\n",
    "\n",
    "# 保存为新的CSV文件\n",
    "language_counts.to_csv('repo_language_counts.csv', index=False)\n",
    "\n",
    "print(\"Repo language counts saved to repo_language_counts.csv\")"
   ]
  }
 ],
 "metadata": {
  "kernelspec": {
   "display_name": "Python 3",
   "language": "python",
   "name": "python3"
  },
  "language_info": {
   "codemirror_mode": {
    "name": "ipython",
    "version": 3
   },
   "file_extension": ".py",
   "mimetype": "text/x-python",
   "name": "python",
   "nbconvert_exporter": "python",
   "pygments_lexer": "ipython3",
   "version": "3.11.4"
  }
 },
 "nbformat": 4,
 "nbformat_minor": 2
}
